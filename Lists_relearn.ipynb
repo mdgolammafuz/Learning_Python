{
 "cells": [
  {
   "cell_type": "code",
   "execution_count": 1,
   "id": "23719322",
   "metadata": {},
   "outputs": [
    {
     "name": "stdout",
     "output_type": "stream",
     "text": [
      "List of Numbers : [4, 5, 6]\n",
      "List of Strings : ['d', 'e', 'f']\n",
      "List : ['d', 'e', 'f']\n",
      "List after appending : ['d', 'e', 'f', 'g']\n",
      "Item by pop method : g\n",
      "First element in the List : d\n",
      "Everything after first element : ['e', 'f']\n",
      "A slice from index location 1 to 2: ['e', 'f']\n",
      "List : ['hi', 'e', 'f']\n"
     ]
    }
   ],
   "source": [
    "# A list of numbers\n",
    "list_of_numbers = [4, 5, 6]\n",
    "# We can have a list of stings 'd', 'e', 'f' -- Note strings are in quotes\n",
    "list_of_string = ['d', 'e', 'f']\n",
    "\n",
    "print(\"List of Numbers : {}\".format(list_of_numbers))\n",
    "print(\"List of Strings : {}\".format(list_of_string))\n",
    "\n",
    "# We can assign a list to a variable \"my_list\".\n",
    "my_list = ['d', 'e', 'f']\n",
    "print(\"List : {}\".format(my_list))\n",
    "\n",
    "# appending a value to list\n",
    "my_list.append('g')\n",
    "print(\"List after appending : {}\".format(my_list))\n",
    "\n",
    "# pop method\n",
    "print(\"Item by pop method : {}\".format(my_list.pop()))\n",
    "\n",
    "\n",
    "my_list = ['d', 'e', 'f']\n",
    "\n",
    "# grab the first item in the list\n",
    "print(\"First element in the List : {}\".format(my_list[0]))\n",
    "\n",
    "# grab everything after first element\n",
    "print(\"Everything after first element : {}\".format(my_list[1:]))\n",
    "\n",
    "# grab a slice from index location 1 to 2, but not including the element at index 3\n",
    "print(\"A slice from index location 1 to 2: {}\".format(my_list[1:3]))\n",
    "\n",
    "# Lists are mutable\n",
    "\n",
    "my_list = ['d', 'e', 'f']\n",
    "# pass in the element 'hi' to the index 0\n",
    "my_list[0] = 'hi'\n",
    "print(\"List : {}\".format(my_list))\n"
   ]
  },
  {
   "cell_type": "code",
   "execution_count": 2,
   "id": "b720a160",
   "metadata": {},
   "outputs": [
    {
     "name": "stdout",
     "output_type": "stream",
     "text": [
      "List : [1, 2, 3, [4, 5, 6]]\n",
      "Nested List : [4, 5, 6]\n",
      "Element from nested list : 4\n"
     ]
    }
   ],
   "source": [
    " # nested list: nesting a list with in a list\n",
    "nested_1 = [1,2,3,[4,5,6]]\n",
    "print(\"List : {}\".format(nested_1))\n",
    "\n",
    "# grabbing the nested list - count the index location of nested list starting with 0\n",
    "print(\"Nested List : {}\".format(nested_1[3]))\n",
    "\n",
    "# grabbing element from the nested list\n",
    "print(\"Element from nested list : {}\".format(nested_1[3][0]))"
   ]
  },
  {
   "cell_type": "code",
   "execution_count": 3,
   "id": "38970d20",
   "metadata": {},
   "outputs": [
    {
     "name": "stdout",
     "output_type": "stream",
     "text": [
      "List : [1, 2, [3, 4, ['a', 'b']]]\n",
      "Nested List : [3, 4, ['a', 'b']]\n",
      "Element from nested list : a\n"
     ]
    }
   ],
   "source": [
    " # another example of nested list\n",
    "nested_2 = [1,2,[3,4,['a','b']]]\n",
    "print(\"List : {}\".format(nested_2))\n",
    "\n",
    "# grabbing the nested list - count the index location of nested list starting with 0\n",
    "print(\"Nested List : {}\".format(nested_2[2]))\n",
    "\n",
    "# grabbing 'a' from nested_2\n",
    "print(\"Element from nested list : {}\".format(nested_2[2][2][0]))"
   ]
  },
  {
   "cell_type": "code",
   "execution_count": null,
   "id": "2e8ac3c2",
   "metadata": {},
   "outputs": [],
   "source": []
  }
 ],
 "metadata": {
  "kernelspec": {
   "display_name": "Python 3 (ipykernel)",
   "language": "python",
   "name": "python3"
  },
  "language_info": {
   "codemirror_mode": {
    "name": "ipython",
    "version": 3
   },
   "file_extension": ".py",
   "mimetype": "text/x-python",
   "name": "python",
   "nbconvert_exporter": "python",
   "pygments_lexer": "ipython3",
   "version": "3.10.7"
  }
 },
 "nbformat": 4,
 "nbformat_minor": 5
}
